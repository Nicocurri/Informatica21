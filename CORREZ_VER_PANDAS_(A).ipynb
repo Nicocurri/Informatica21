{
  "nbformat": 4,
  "nbformat_minor": 0,
  "metadata": {
    "colab": {
      "name": "CORREZ. VER PANDAS (A)",
      "provenance": [],
      "collapsed_sections": []
    },
    "kernelspec": {
      "name": "python3",
      "display_name": "Python 3"
    },
    "language_info": {
      "name": "python"
    }
  },
  "cells": [
    {
      "cell_type": "code",
      "metadata": {
        "id": "cT87HefcNgm1"
      },
      "source": [
        "import pandas as pd"
      ],
      "execution_count": null,
      "outputs": []
    },
    {
      "cell_type": "markdown",
      "metadata": {
        "id": "nLYVabJAN0zM"
      },
      "source": [
        "Scrivere le istruzioni per caricare i dati del file csv (inventare il link e il nome del file) in un dataframe Pandas chiamato “movies”\n"
      ]
    },
    {
      "cell_type": "code",
      "metadata": {
        "id": "evMdyXYxN1Q7"
      },
      "source": [
        "movies = pd.read_csv(\"https://gist.githubusercontent.com/tiangechen/b68782efa49a16edaf07dc2cdaa855ea/raw/0c794a9717f18b094eabab2cd6a6b9a226903577/movies.csv\")"
      ],
      "execution_count": null,
      "outputs": []
    },
    {
      "cell_type": "markdown",
      "metadata": {
        "id": "Z1fpP3bvOPIb"
      },
      "source": [
        "visualizzare le ultime 8 righe del dataframe"
      ]
    },
    {
      "cell_type": "code",
      "metadata": {
        "colab": {
          "base_uri": "https://localhost:8080/",
          "height": 297
        },
        "id": "ZLOX8ZblOR4r",
        "outputId": "45e17984-1982-41f7-acd1-915951ab70a4"
      },
      "source": [
        "movies.tail(8)\n"
      ],
      "execution_count": null,
      "outputs": [
        {
          "output_type": "execute_result",
          "data": {
            "text/html": [
              "<div>\n",
              "<style scoped>\n",
              "    .dataframe tbody tr th:only-of-type {\n",
              "        vertical-align: middle;\n",
              "    }\n",
              "\n",
              "    .dataframe tbody tr th {\n",
              "        vertical-align: top;\n",
              "    }\n",
              "\n",
              "    .dataframe thead th {\n",
              "        text-align: right;\n",
              "    }\n",
              "</style>\n",
              "<table border=\"1\" class=\"dataframe\">\n",
              "  <thead>\n",
              "    <tr style=\"text-align: right;\">\n",
              "      <th></th>\n",
              "      <th>Film</th>\n",
              "      <th>Genre</th>\n",
              "      <th>Lead Studio</th>\n",
              "      <th>Audience score %</th>\n",
              "      <th>Profitability</th>\n",
              "      <th>Rotten Tomatoes %</th>\n",
              "      <th>Worldwide Gross</th>\n",
              "      <th>Year</th>\n",
              "    </tr>\n",
              "  </thead>\n",
              "  <tbody>\n",
              "    <tr>\n",
              "      <th>69</th>\n",
              "      <td>Enchanted</td>\n",
              "      <td>Comedy</td>\n",
              "      <td>Disney</td>\n",
              "      <td>80</td>\n",
              "      <td>4.005737</td>\n",
              "      <td>93</td>\n",
              "      <td>$340.49</td>\n",
              "      <td>2007</td>\n",
              "    </tr>\n",
              "    <tr>\n",
              "      <th>70</th>\n",
              "      <td>Dear John</td>\n",
              "      <td>Drama</td>\n",
              "      <td>Sony</td>\n",
              "      <td>66</td>\n",
              "      <td>4.598800</td>\n",
              "      <td>29</td>\n",
              "      <td>$114.97</td>\n",
              "      <td>2010</td>\n",
              "    </tr>\n",
              "    <tr>\n",
              "      <th>71</th>\n",
              "      <td>Beginners</td>\n",
              "      <td>Comedy</td>\n",
              "      <td>Independent</td>\n",
              "      <td>80</td>\n",
              "      <td>4.471875</td>\n",
              "      <td>84</td>\n",
              "      <td>$14.31</td>\n",
              "      <td>2011</td>\n",
              "    </tr>\n",
              "    <tr>\n",
              "      <th>72</th>\n",
              "      <td>Across the Universe</td>\n",
              "      <td>romance</td>\n",
              "      <td>Independent</td>\n",
              "      <td>84</td>\n",
              "      <td>0.652603</td>\n",
              "      <td>54</td>\n",
              "      <td>$29.37</td>\n",
              "      <td>2007</td>\n",
              "    </tr>\n",
              "    <tr>\n",
              "      <th>73</th>\n",
              "      <td>A Serious Man</td>\n",
              "      <td>Drama</td>\n",
              "      <td>Universal</td>\n",
              "      <td>64</td>\n",
              "      <td>4.382857</td>\n",
              "      <td>89</td>\n",
              "      <td>$30.68</td>\n",
              "      <td>2009</td>\n",
              "    </tr>\n",
              "    <tr>\n",
              "      <th>74</th>\n",
              "      <td>A Dangerous Method</td>\n",
              "      <td>Drama</td>\n",
              "      <td>Independent</td>\n",
              "      <td>89</td>\n",
              "      <td>0.448645</td>\n",
              "      <td>79</td>\n",
              "      <td>$8.97</td>\n",
              "      <td>2011</td>\n",
              "    </tr>\n",
              "    <tr>\n",
              "      <th>75</th>\n",
              "      <td>27 Dresses</td>\n",
              "      <td>Comedy</td>\n",
              "      <td>Fox</td>\n",
              "      <td>71</td>\n",
              "      <td>5.343622</td>\n",
              "      <td>40</td>\n",
              "      <td>$160.31</td>\n",
              "      <td>2008</td>\n",
              "    </tr>\n",
              "    <tr>\n",
              "      <th>76</th>\n",
              "      <td>(500) Days of Summer</td>\n",
              "      <td>comedy</td>\n",
              "      <td>Fox</td>\n",
              "      <td>81</td>\n",
              "      <td>8.096000</td>\n",
              "      <td>87</td>\n",
              "      <td>$60.72</td>\n",
              "      <td>2009</td>\n",
              "    </tr>\n",
              "  </tbody>\n",
              "</table>\n",
              "</div>"
            ],
            "text/plain": [
              "                    Film    Genre  ... Worldwide Gross  Year\n",
              "69             Enchanted   Comedy  ...        $340.49   2007\n",
              "70             Dear John    Drama  ...        $114.97   2010\n",
              "71             Beginners   Comedy  ...         $14.31   2011\n",
              "72   Across the Universe  romance  ...         $29.37   2007\n",
              "73         A Serious Man    Drama  ...         $30.68   2009\n",
              "74    A Dangerous Method    Drama  ...          $8.97   2011\n",
              "75            27 Dresses   Comedy  ...        $160.31   2008\n",
              "76  (500) Days of Summer   comedy  ...         $60.72   2009\n",
              "\n",
              "[8 rows x 8 columns]"
            ]
          },
          "metadata": {},
          "execution_count": 3
        }
      ]
    },
    {
      "cell_type": "code",
      "metadata": {
        "colab": {
          "base_uri": "https://localhost:8080/",
          "height": 419
        },
        "id": "TRWzQBFqOs6r",
        "outputId": "9f9858b2-53f0-4967-ba19-012d11ca4034"
      },
      "source": [
        "movies[[\"Film\",\"Genre\"]]"
      ],
      "execution_count": null,
      "outputs": [
        {
          "output_type": "execute_result",
          "data": {
            "text/html": [
              "<div>\n",
              "<style scoped>\n",
              "    .dataframe tbody tr th:only-of-type {\n",
              "        vertical-align: middle;\n",
              "    }\n",
              "\n",
              "    .dataframe tbody tr th {\n",
              "        vertical-align: top;\n",
              "    }\n",
              "\n",
              "    .dataframe thead th {\n",
              "        text-align: right;\n",
              "    }\n",
              "</style>\n",
              "<table border=\"1\" class=\"dataframe\">\n",
              "  <thead>\n",
              "    <tr style=\"text-align: right;\">\n",
              "      <th></th>\n",
              "      <th>Film</th>\n",
              "      <th>Genre</th>\n",
              "    </tr>\n",
              "  </thead>\n",
              "  <tbody>\n",
              "    <tr>\n",
              "      <th>0</th>\n",
              "      <td>Zack and Miri Make a Porno</td>\n",
              "      <td>Romance</td>\n",
              "    </tr>\n",
              "    <tr>\n",
              "      <th>1</th>\n",
              "      <td>Youth in Revolt</td>\n",
              "      <td>Comedy</td>\n",
              "    </tr>\n",
              "    <tr>\n",
              "      <th>2</th>\n",
              "      <td>You Will Meet a Tall Dark Stranger</td>\n",
              "      <td>Comedy</td>\n",
              "    </tr>\n",
              "    <tr>\n",
              "      <th>3</th>\n",
              "      <td>When in Rome</td>\n",
              "      <td>Comedy</td>\n",
              "    </tr>\n",
              "    <tr>\n",
              "      <th>4</th>\n",
              "      <td>What Happens in Vegas</td>\n",
              "      <td>Comedy</td>\n",
              "    </tr>\n",
              "    <tr>\n",
              "      <th>...</th>\n",
              "      <td>...</td>\n",
              "      <td>...</td>\n",
              "    </tr>\n",
              "    <tr>\n",
              "      <th>72</th>\n",
              "      <td>Across the Universe</td>\n",
              "      <td>romance</td>\n",
              "    </tr>\n",
              "    <tr>\n",
              "      <th>73</th>\n",
              "      <td>A Serious Man</td>\n",
              "      <td>Drama</td>\n",
              "    </tr>\n",
              "    <tr>\n",
              "      <th>74</th>\n",
              "      <td>A Dangerous Method</td>\n",
              "      <td>Drama</td>\n",
              "    </tr>\n",
              "    <tr>\n",
              "      <th>75</th>\n",
              "      <td>27 Dresses</td>\n",
              "      <td>Comedy</td>\n",
              "    </tr>\n",
              "    <tr>\n",
              "      <th>76</th>\n",
              "      <td>(500) Days of Summer</td>\n",
              "      <td>comedy</td>\n",
              "    </tr>\n",
              "  </tbody>\n",
              "</table>\n",
              "<p>77 rows × 2 columns</p>\n",
              "</div>"
            ],
            "text/plain": [
              "                                  Film    Genre\n",
              "0           Zack and Miri Make a Porno  Romance\n",
              "1                      Youth in Revolt   Comedy\n",
              "2   You Will Meet a Tall Dark Stranger   Comedy\n",
              "3                         When in Rome   Comedy\n",
              "4                What Happens in Vegas   Comedy\n",
              "..                                 ...      ...\n",
              "72                 Across the Universe  romance\n",
              "73                       A Serious Man    Drama\n",
              "74                  A Dangerous Method    Drama\n",
              "75                          27 Dresses   Comedy\n",
              "76                (500) Days of Summer   comedy\n",
              "\n",
              "[77 rows x 2 columns]"
            ]
          },
          "metadata": {},
          "execution_count": 4
        }
      ]
    },
    {
      "cell_type": "markdown",
      "metadata": {
        "id": "rpnbdIz-PPqb"
      },
      "source": [
        "visualizzare le righe del dataframe dalla 20 alla 30\n"
      ]
    },
    {
      "cell_type": "code",
      "metadata": {
        "colab": {
          "base_uri": "https://localhost:8080/",
          "height": 390
        },
        "id": "gNszd8R4PP-j",
        "outputId": "129d4c74-7feb-45af-bbe6-825b410fdafa"
      },
      "source": [
        "movies[20:31]"
      ],
      "execution_count": null,
      "outputs": [
        {
          "output_type": "execute_result",
          "data": {
            "text/html": [
              "<div>\n",
              "<style scoped>\n",
              "    .dataframe tbody tr th:only-of-type {\n",
              "        vertical-align: middle;\n",
              "    }\n",
              "\n",
              "    .dataframe tbody tr th {\n",
              "        vertical-align: top;\n",
              "    }\n",
              "\n",
              "    .dataframe thead th {\n",
              "        text-align: right;\n",
              "    }\n",
              "</style>\n",
              "<table border=\"1\" class=\"dataframe\">\n",
              "  <thead>\n",
              "    <tr style=\"text-align: right;\">\n",
              "      <th></th>\n",
              "      <th>Film</th>\n",
              "      <th>Genre</th>\n",
              "      <th>Lead Studio</th>\n",
              "      <th>Audience score %</th>\n",
              "      <th>Profitability</th>\n",
              "      <th>Rotten Tomatoes %</th>\n",
              "      <th>Worldwide Gross</th>\n",
              "      <th>Year</th>\n",
              "    </tr>\n",
              "  </thead>\n",
              "  <tbody>\n",
              "    <tr>\n",
              "      <th>20</th>\n",
              "      <td>The Curious Case of Benjamin Button</td>\n",
              "      <td>Fantasy</td>\n",
              "      <td>Warner Bros.</td>\n",
              "      <td>81</td>\n",
              "      <td>1.783944</td>\n",
              "      <td>73</td>\n",
              "      <td>$285.43</td>\n",
              "      <td>2008</td>\n",
              "    </tr>\n",
              "    <tr>\n",
              "      <th>21</th>\n",
              "      <td>The Back-up Plan</td>\n",
              "      <td>Comedy</td>\n",
              "      <td>CBS</td>\n",
              "      <td>47</td>\n",
              "      <td>2.202571</td>\n",
              "      <td>20</td>\n",
              "      <td>$77.09</td>\n",
              "      <td>2010</td>\n",
              "    </tr>\n",
              "    <tr>\n",
              "      <th>22</th>\n",
              "      <td>Tangled</td>\n",
              "      <td>Animation</td>\n",
              "      <td>Disney</td>\n",
              "      <td>88</td>\n",
              "      <td>1.365692</td>\n",
              "      <td>89</td>\n",
              "      <td>$355.01</td>\n",
              "      <td>2010</td>\n",
              "    </tr>\n",
              "    <tr>\n",
              "      <th>23</th>\n",
              "      <td>Something Borrowed</td>\n",
              "      <td>Romance</td>\n",
              "      <td>Independent</td>\n",
              "      <td>48</td>\n",
              "      <td>1.719514</td>\n",
              "      <td>15</td>\n",
              "      <td>$60.18</td>\n",
              "      <td>2011</td>\n",
              "    </tr>\n",
              "    <tr>\n",
              "      <th>24</th>\n",
              "      <td>She's Out of My League</td>\n",
              "      <td>Comedy</td>\n",
              "      <td>Paramount</td>\n",
              "      <td>60</td>\n",
              "      <td>2.440500</td>\n",
              "      <td>57</td>\n",
              "      <td>$48.81</td>\n",
              "      <td>2010</td>\n",
              "    </tr>\n",
              "    <tr>\n",
              "      <th>25</th>\n",
              "      <td>Sex and the City Two</td>\n",
              "      <td>Comedy</td>\n",
              "      <td>Warner Bros.</td>\n",
              "      <td>49</td>\n",
              "      <td>2.883500</td>\n",
              "      <td>15</td>\n",
              "      <td>$288.35</td>\n",
              "      <td>2010</td>\n",
              "    </tr>\n",
              "    <tr>\n",
              "      <th>26</th>\n",
              "      <td>Sex and the City 2</td>\n",
              "      <td>Comedy</td>\n",
              "      <td>Warner Bros.</td>\n",
              "      <td>49</td>\n",
              "      <td>2.883500</td>\n",
              "      <td>15</td>\n",
              "      <td>$288.35</td>\n",
              "      <td>2010</td>\n",
              "    </tr>\n",
              "    <tr>\n",
              "      <th>27</th>\n",
              "      <td>Sex and the City</td>\n",
              "      <td>Comedy</td>\n",
              "      <td>Warner Bros.</td>\n",
              "      <td>81</td>\n",
              "      <td>7.221796</td>\n",
              "      <td>49</td>\n",
              "      <td>$415.25</td>\n",
              "      <td>2008</td>\n",
              "    </tr>\n",
              "    <tr>\n",
              "      <th>28</th>\n",
              "      <td>Remember Me</td>\n",
              "      <td>Drama</td>\n",
              "      <td>Summit</td>\n",
              "      <td>70</td>\n",
              "      <td>3.491250</td>\n",
              "      <td>28</td>\n",
              "      <td>$55.86</td>\n",
              "      <td>2010</td>\n",
              "    </tr>\n",
              "    <tr>\n",
              "      <th>29</th>\n",
              "      <td>Rachel Getting Married</td>\n",
              "      <td>Drama</td>\n",
              "      <td>Independent</td>\n",
              "      <td>61</td>\n",
              "      <td>1.384167</td>\n",
              "      <td>85</td>\n",
              "      <td>$16.61</td>\n",
              "      <td>2008</td>\n",
              "    </tr>\n",
              "    <tr>\n",
              "      <th>30</th>\n",
              "      <td>Penelope</td>\n",
              "      <td>Comedy</td>\n",
              "      <td>Summit</td>\n",
              "      <td>74</td>\n",
              "      <td>1.382800</td>\n",
              "      <td>52</td>\n",
              "      <td>$20.74</td>\n",
              "      <td>2008</td>\n",
              "    </tr>\n",
              "  </tbody>\n",
              "</table>\n",
              "</div>"
            ],
            "text/plain": [
              "                                   Film      Genre  ... Worldwide Gross  Year\n",
              "20  The Curious Case of Benjamin Button    Fantasy  ...        $285.43   2008\n",
              "21                     The Back-up Plan     Comedy  ...         $77.09   2010\n",
              "22                              Tangled  Animation  ...        $355.01   2010\n",
              "23                   Something Borrowed    Romance  ...         $60.18   2011\n",
              "24               She's Out of My League     Comedy  ...         $48.81   2010\n",
              "25                 Sex and the City Two     Comedy  ...        $288.35   2010\n",
              "26                   Sex and the City 2     Comedy  ...        $288.35   2010\n",
              "27                     Sex and the City     Comedy  ...        $415.25   2008\n",
              "28                          Remember Me      Drama  ...         $55.86   2010\n",
              "29               Rachel Getting Married      Drama  ...         $16.61   2008\n",
              "30                             Penelope     Comedy  ...         $20.74   2008\n",
              "\n",
              "[11 rows x 8 columns]"
            ]
          },
          "metadata": {},
          "execution_count": 5
        }
      ]
    },
    {
      "cell_type": "markdown",
      "metadata": {
        "id": "ej8Drh4sPfI1"
      },
      "source": [
        "visualizzare i titolo e l’anno dei film che si trovano nelle posizioni 23, 29 e 45\n"
      ]
    },
    {
      "cell_type": "code",
      "metadata": {
        "colab": {
          "base_uri": "https://localhost:8080/",
          "height": 142
        },
        "id": "pp2ntN4LPfhs",
        "outputId": "551d4b83-cd67-45f4-cef3-0f9fa66739fe"
      },
      "source": [
        "movies.iloc[[23,29,45]][[\"Film\",\"Year\"]]"
      ],
      "execution_count": null,
      "outputs": [
        {
          "output_type": "execute_result",
          "data": {
            "text/html": [
              "<div>\n",
              "<style scoped>\n",
              "    .dataframe tbody tr th:only-of-type {\n",
              "        vertical-align: middle;\n",
              "    }\n",
              "\n",
              "    .dataframe tbody tr th {\n",
              "        vertical-align: top;\n",
              "    }\n",
              "\n",
              "    .dataframe thead th {\n",
              "        text-align: right;\n",
              "    }\n",
              "</style>\n",
              "<table border=\"1\" class=\"dataframe\">\n",
              "  <thead>\n",
              "    <tr style=\"text-align: right;\">\n",
              "      <th></th>\n",
              "      <th>Film</th>\n",
              "      <th>Year</th>\n",
              "    </tr>\n",
              "  </thead>\n",
              "  <tbody>\n",
              "    <tr>\n",
              "      <th>23</th>\n",
              "      <td>Something Borrowed</td>\n",
              "      <td>2011</td>\n",
              "    </tr>\n",
              "    <tr>\n",
              "      <th>29</th>\n",
              "      <td>Rachel Getting Married</td>\n",
              "      <td>2008</td>\n",
              "    </tr>\n",
              "    <tr>\n",
              "      <th>45</th>\n",
              "      <td>Mamma Mia!</td>\n",
              "      <td>2008</td>\n",
              "    </tr>\n",
              "  </tbody>\n",
              "</table>\n",
              "</div>"
            ],
            "text/plain": [
              "                      Film  Year\n",
              "23      Something Borrowed  2011\n",
              "29  Rachel Getting Married  2008\n",
              "45              Mamma Mia!  2008"
            ]
          },
          "metadata": {},
          "execution_count": 8
        }
      ]
    },
    {
      "cell_type": "markdown",
      "metadata": {
        "id": "2QlhUrHiTrfm"
      },
      "source": [
        "visualizzare i titoli dei film del genere “Animation”"
      ]
    },
    {
      "cell_type": "code",
      "metadata": {
        "colab": {
          "base_uri": "https://localhost:8080/"
        },
        "id": "-0AXVzp-Trs8",
        "outputId": "efcd06eb-fad9-4e5c-be85-0dfea93bad9f"
      },
      "source": [
        "movies[movies[\"Genre\"]==\"Animation\"][\"Film\"]"
      ],
      "execution_count": null,
      "outputs": [
        {
          "output_type": "execute_result",
          "data": {
            "text/plain": [
              "6                WALL-E\n",
              "22              Tangled\n",
              "64    Gnomeo and Juliet\n",
              "65    Gnomeo and Juliet\n",
              "Name: Film, dtype: object"
            ]
          },
          "metadata": {},
          "execution_count": 10
        }
      ]
    },
    {
      "cell_type": "markdown",
      "metadata": {
        "id": "rVK-yRrdUlIm"
      },
      "source": [
        "\n",
        "visualizzare i titoli dei film prodotti dalla “Disney” e dalla “20th Century Fox”\n",
        "\n"
      ]
    },
    {
      "cell_type": "code",
      "metadata": {
        "id": "HSFy9WH8UlZl"
      },
      "source": [
        "movies[(movies[\"Lead Studio\"]== \"Disney\") | \"20th Century Fox\"][\"Film\"]"
      ],
      "execution_count": null,
      "outputs": []
    },
    {
      "cell_type": "markdown",
      "metadata": {
        "id": "Jojs9eUSVibm"
      },
      "source": [
        "visualizzare i titoli dei film usciti dal 2005 al 2010"
      ]
    },
    {
      "cell_type": "code",
      "metadata": {
        "colab": {
          "base_uri": "https://localhost:8080/"
        },
        "id": "BEAV4yTiVivF",
        "outputId": "9198d503-fd7f-4e66-9124-ff5c34948be3"
      },
      "source": [
        "movies[(movies[\"Year\"] >= 2005) & (movies[\"Year\"] <= 2010)][\"Film\"]"
      ],
      "execution_count": null,
      "outputs": [
        {
          "output_type": "execute_result",
          "data": {
            "text/plain": [
              "0             Zack and Miri Make a Porno\n",
              "1                        Youth in Revolt\n",
              "2     You Will Meet a Tall Dark Stranger\n",
              "3                           When in Rome\n",
              "4                  What Happens in Vegas\n",
              "                     ...                \n",
              "70                             Dear John\n",
              "72                   Across the Universe\n",
              "73                         A Serious Man\n",
              "75                            27 Dresses\n",
              "76                  (500) Days of Summer\n",
              "Name: Film, Length: 63, dtype: object"
            ]
          },
          "metadata": {},
          "execution_count": 13
        }
      ]
    },
    {
      "cell_type": "markdown",
      "metadata": {
        "id": "c4ftVr3NV_T0"
      },
      "source": [
        "visualizzare i film (tutte le colonne) il cui titolo comincia con la lettera W"
      ]
    },
    {
      "cell_type": "code",
      "metadata": {
        "colab": {
          "base_uri": "https://localhost:8080/",
          "height": 235
        },
        "id": "vTtMPMTNV_jU",
        "outputId": "facc8d7c-bbd7-4bd0-ba09-75181acc1060"
      },
      "source": [
        "movies[movies[\"Film\"].str.startswith(\"W\")]"
      ],
      "execution_count": null,
      "outputs": [
        {
          "output_type": "execute_result",
          "data": {
            "text/html": [
              "<div>\n",
              "<style scoped>\n",
              "    .dataframe tbody tr th:only-of-type {\n",
              "        vertical-align: middle;\n",
              "    }\n",
              "\n",
              "    .dataframe tbody tr th {\n",
              "        vertical-align: top;\n",
              "    }\n",
              "\n",
              "    .dataframe thead th {\n",
              "        text-align: right;\n",
              "    }\n",
              "</style>\n",
              "<table border=\"1\" class=\"dataframe\">\n",
              "  <thead>\n",
              "    <tr style=\"text-align: right;\">\n",
              "      <th></th>\n",
              "      <th>Film</th>\n",
              "      <th>Genre</th>\n",
              "      <th>Lead Studio</th>\n",
              "      <th>Audience score %</th>\n",
              "      <th>Profitability</th>\n",
              "      <th>Rotten Tomatoes %</th>\n",
              "      <th>Worldwide Gross</th>\n",
              "      <th>Year</th>\n",
              "    </tr>\n",
              "  </thead>\n",
              "  <tbody>\n",
              "    <tr>\n",
              "      <th>3</th>\n",
              "      <td>When in Rome</td>\n",
              "      <td>Comedy</td>\n",
              "      <td>Disney</td>\n",
              "      <td>44</td>\n",
              "      <td>0.000000</td>\n",
              "      <td>15</td>\n",
              "      <td>$43.04</td>\n",
              "      <td>2010</td>\n",
              "    </tr>\n",
              "    <tr>\n",
              "      <th>4</th>\n",
              "      <td>What Happens in Vegas</td>\n",
              "      <td>Comedy</td>\n",
              "      <td>Fox</td>\n",
              "      <td>72</td>\n",
              "      <td>6.267647</td>\n",
              "      <td>28</td>\n",
              "      <td>$219.37</td>\n",
              "      <td>2008</td>\n",
              "    </tr>\n",
              "    <tr>\n",
              "      <th>5</th>\n",
              "      <td>Water For Elephants</td>\n",
              "      <td>Drama</td>\n",
              "      <td>20th Century Fox</td>\n",
              "      <td>72</td>\n",
              "      <td>3.081421</td>\n",
              "      <td>60</td>\n",
              "      <td>$117.09</td>\n",
              "      <td>2011</td>\n",
              "    </tr>\n",
              "    <tr>\n",
              "      <th>6</th>\n",
              "      <td>WALL-E</td>\n",
              "      <td>Animation</td>\n",
              "      <td>Disney</td>\n",
              "      <td>89</td>\n",
              "      <td>2.896019</td>\n",
              "      <td>96</td>\n",
              "      <td>$521.28</td>\n",
              "      <td>2008</td>\n",
              "    </tr>\n",
              "    <tr>\n",
              "      <th>7</th>\n",
              "      <td>Waitress</td>\n",
              "      <td>Romance</td>\n",
              "      <td>Independent</td>\n",
              "      <td>67</td>\n",
              "      <td>11.089741</td>\n",
              "      <td>89</td>\n",
              "      <td>$22.18</td>\n",
              "      <td>2007</td>\n",
              "    </tr>\n",
              "    <tr>\n",
              "      <th>8</th>\n",
              "      <td>Waiting For Forever</td>\n",
              "      <td>Romance</td>\n",
              "      <td>Independent</td>\n",
              "      <td>53</td>\n",
              "      <td>0.005000</td>\n",
              "      <td>6</td>\n",
              "      <td>$0.03</td>\n",
              "      <td>2011</td>\n",
              "    </tr>\n",
              "  </tbody>\n",
              "</table>\n",
              "</div>"
            ],
            "text/plain": [
              "                    Film      Genre  ... Worldwide Gross  Year\n",
              "3           When in Rome     Comedy  ...         $43.04   2010\n",
              "4  What Happens in Vegas     Comedy  ...        $219.37   2008\n",
              "5    Water For Elephants      Drama  ...        $117.09   2011\n",
              "6                 WALL-E  Animation  ...        $521.28   2008\n",
              "7               Waitress    Romance  ...         $22.18   2007\n",
              "8    Waiting For Forever    Romance  ...          $0.03   2011\n",
              "\n",
              "[6 rows x 8 columns]"
            ]
          },
          "metadata": {},
          "execution_count": 16
        }
      ]
    },
    {
      "cell_type": "markdown",
      "metadata": {
        "id": "-2pK1NQbWuR2"
      },
      "source": [
        "visualizzare l’ “Audience score %” medio dei film del genere “Drama”\n"
      ]
    },
    {
      "cell_type": "code",
      "metadata": {
        "colab": {
          "base_uri": "https://localhost:8080/"
        },
        "id": "tvTq37P4WuoN",
        "outputId": "0a237ff3-49b2-44e0-802e-561da67b37a4"
      },
      "source": [
        "movies[movies.Genre==\"Drama\"][\"Audience score %\"].mean()"
      ],
      "execution_count": null,
      "outputs": [
        {
          "output_type": "execute_result",
          "data": {
            "text/plain": [
              "67.23076923076923"
            ]
          },
          "metadata": {},
          "execution_count": 17
        }
      ]
    },
    {
      "cell_type": "markdown",
      "metadata": {
        "id": "Q6vqlDGVXkIW"
      },
      "source": [
        "visualizzare il numero di film per ogni genere\n"
      ]
    },
    {
      "cell_type": "code",
      "metadata": {
        "colab": {
          "base_uri": "https://localhost:8080/",
          "height": 390
        },
        "id": "7K3nZ_wnXkYt",
        "outputId": "40992399-e808-4553-8dfe-d00b22fd5bfe"
      },
      "source": [
        "movies.groupby(\"Genre\").count()"
      ],
      "execution_count": null,
      "outputs": [
        {
          "output_type": "execute_result",
          "data": {
            "text/html": [
              "<div>\n",
              "<style scoped>\n",
              "    .dataframe tbody tr th:only-of-type {\n",
              "        vertical-align: middle;\n",
              "    }\n",
              "\n",
              "    .dataframe tbody tr th {\n",
              "        vertical-align: top;\n",
              "    }\n",
              "\n",
              "    .dataframe thead th {\n",
              "        text-align: right;\n",
              "    }\n",
              "</style>\n",
              "<table border=\"1\" class=\"dataframe\">\n",
              "  <thead>\n",
              "    <tr style=\"text-align: right;\">\n",
              "      <th></th>\n",
              "      <th>Film</th>\n",
              "      <th>Lead Studio</th>\n",
              "      <th>Audience score %</th>\n",
              "      <th>Profitability</th>\n",
              "      <th>Rotten Tomatoes %</th>\n",
              "      <th>Worldwide Gross</th>\n",
              "      <th>Year</th>\n",
              "    </tr>\n",
              "    <tr>\n",
              "      <th>Genre</th>\n",
              "      <th></th>\n",
              "      <th></th>\n",
              "      <th></th>\n",
              "      <th></th>\n",
              "      <th></th>\n",
              "      <th></th>\n",
              "      <th></th>\n",
              "    </tr>\n",
              "  </thead>\n",
              "  <tbody>\n",
              "    <tr>\n",
              "      <th>Action</th>\n",
              "      <td>1</td>\n",
              "      <td>1</td>\n",
              "      <td>1</td>\n",
              "      <td>1</td>\n",
              "      <td>1</td>\n",
              "      <td>1</td>\n",
              "      <td>1</td>\n",
              "    </tr>\n",
              "    <tr>\n",
              "      <th>Animation</th>\n",
              "      <td>4</td>\n",
              "      <td>4</td>\n",
              "      <td>4</td>\n",
              "      <td>4</td>\n",
              "      <td>4</td>\n",
              "      <td>4</td>\n",
              "      <td>4</td>\n",
              "    </tr>\n",
              "    <tr>\n",
              "      <th>Comdy</th>\n",
              "      <td>1</td>\n",
              "      <td>1</td>\n",
              "      <td>1</td>\n",
              "      <td>1</td>\n",
              "      <td>1</td>\n",
              "      <td>1</td>\n",
              "      <td>1</td>\n",
              "    </tr>\n",
              "    <tr>\n",
              "      <th>Comedy</th>\n",
              "      <td>41</td>\n",
              "      <td>41</td>\n",
              "      <td>41</td>\n",
              "      <td>41</td>\n",
              "      <td>41</td>\n",
              "      <td>41</td>\n",
              "      <td>41</td>\n",
              "    </tr>\n",
              "    <tr>\n",
              "      <th>Drama</th>\n",
              "      <td>13</td>\n",
              "      <td>13</td>\n",
              "      <td>13</td>\n",
              "      <td>13</td>\n",
              "      <td>13</td>\n",
              "      <td>13</td>\n",
              "      <td>13</td>\n",
              "    </tr>\n",
              "    <tr>\n",
              "      <th>Fantasy</th>\n",
              "      <td>1</td>\n",
              "      <td>1</td>\n",
              "      <td>1</td>\n",
              "      <td>1</td>\n",
              "      <td>1</td>\n",
              "      <td>1</td>\n",
              "      <td>1</td>\n",
              "    </tr>\n",
              "    <tr>\n",
              "      <th>Romance</th>\n",
              "      <td>13</td>\n",
              "      <td>13</td>\n",
              "      <td>13</td>\n",
              "      <td>13</td>\n",
              "      <td>13</td>\n",
              "      <td>13</td>\n",
              "      <td>13</td>\n",
              "    </tr>\n",
              "    <tr>\n",
              "      <th>Romence</th>\n",
              "      <td>1</td>\n",
              "      <td>1</td>\n",
              "      <td>1</td>\n",
              "      <td>1</td>\n",
              "      <td>1</td>\n",
              "      <td>1</td>\n",
              "      <td>1</td>\n",
              "    </tr>\n",
              "    <tr>\n",
              "      <th>comedy</th>\n",
              "      <td>1</td>\n",
              "      <td>1</td>\n",
              "      <td>1</td>\n",
              "      <td>1</td>\n",
              "      <td>1</td>\n",
              "      <td>1</td>\n",
              "      <td>1</td>\n",
              "    </tr>\n",
              "    <tr>\n",
              "      <th>romance</th>\n",
              "      <td>1</td>\n",
              "      <td>1</td>\n",
              "      <td>1</td>\n",
              "      <td>1</td>\n",
              "      <td>1</td>\n",
              "      <td>1</td>\n",
              "      <td>1</td>\n",
              "    </tr>\n",
              "  </tbody>\n",
              "</table>\n",
              "</div>"
            ],
            "text/plain": [
              "           Film  Lead Studio  ...  Worldwide Gross  Year\n",
              "Genre                         ...                       \n",
              "Action        1            1  ...                1     1\n",
              "Animation     4            4  ...                4     4\n",
              "Comdy         1            1  ...                1     1\n",
              "Comedy       41           41  ...               41    41\n",
              "Drama        13           13  ...               13    13\n",
              "Fantasy       1            1  ...                1     1\n",
              "Romance      13           13  ...               13    13\n",
              "Romence       1            1  ...                1     1\n",
              "comedy        1            1  ...                1     1\n",
              "romance       1            1  ...                1     1\n",
              "\n",
              "[10 rows x 7 columns]"
            ]
          },
          "metadata": {},
          "execution_count": 19
        }
      ]
    },
    {
      "cell_type": "markdown",
      "metadata": {
        "id": "EvrvjBDIXks1"
      },
      "source": [
        "\n",
        "diminuire del 10% il valore delle recensioni presenti nel campo “Audience score %”\n",
        "\n",
        "\n",
        "---\n",
        "\n"
      ]
    },
    {
      "cell_type": "code",
      "metadata": {
        "colab": {
          "base_uri": "https://localhost:8080/"
        },
        "id": "Tlj7Bi4RXlGV",
        "outputId": "f27b777f-ee63-4fdd-dc2b-b9352775ee8c"
      },
      "source": [
        "movies[\"Audience score %\"]*0.9"
      ],
      "execution_count": null,
      "outputs": [
        {
          "output_type": "execute_result",
          "data": {
            "text/plain": [
              "0     63.0\n",
              "1     46.8\n",
              "2     31.5\n",
              "3     39.6\n",
              "4     64.8\n",
              "      ... \n",
              "72    75.6\n",
              "73    57.6\n",
              "74    80.1\n",
              "75    63.9\n",
              "76    72.9\n",
              "Name: Audience score %, Length: 77, dtype: float64"
            ]
          },
          "metadata": {},
          "execution_count": 20
        }
      ]
    }
  ]
}