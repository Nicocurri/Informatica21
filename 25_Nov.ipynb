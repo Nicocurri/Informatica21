{
  "nbformat": 4,
  "nbformat_minor": 0,
  "metadata": {
    "colab": {
      "name": "25 Nov",
      "provenance": [],
      "collapsed_sections": []
    },
    "kernelspec": {
      "name": "python3",
      "display_name": "Python 3"
    },
    "language_info": {
      "name": "python"
    }
  },
  "cells": [
    {
      "cell_type": "code",
      "metadata": {
        "id": "-mSWxFig0Rkj"
      },
      "source": [
        "import pandas as pd\n",
        "import matplotlib.pyplot as plt\n",
        "import pymongo"
      ],
      "execution_count": null,
      "outputs": []
    },
    {
      "cell_type": "code",
      "metadata": {
        "colab": {
          "base_uri": "https://localhost:8080/",
          "height": 424
        },
        "id": "jiFZMDf06JpN",
        "outputId": "4376cf0d-152a-433f-86f3-9630af733de5"
      },
      "source": [
        "df = pd.read_csv(\"https://raw.githubusercontent.com/wtitze/4E/main/ristoranti.csv\")\n",
        "df"
      ],
      "execution_count": null,
      "outputs": [
        {
          "output_type": "execute_result",
          "data": {
            "text/html": [
              "<div>\n",
              "<style scoped>\n",
              "    .dataframe tbody tr th:only-of-type {\n",
              "        vertical-align: middle;\n",
              "    }\n",
              "\n",
              "    .dataframe tbody tr th {\n",
              "        vertical-align: top;\n",
              "    }\n",
              "\n",
              "    .dataframe thead th {\n",
              "        text-align: right;\n",
              "    }\n",
              "</style>\n",
              "<table border=\"1\" class=\"dataframe\">\n",
              "  <thead>\n",
              "    <tr style=\"text-align: right;\">\n",
              "      <th></th>\n",
              "      <th>N</th>\n",
              "      <th>address</th>\n",
              "      <th>borough</th>\n",
              "      <th>cuisine</th>\n",
              "      <th>grades</th>\n",
              "      <th>name</th>\n",
              "      <th>restaurant_id</th>\n",
              "    </tr>\n",
              "  </thead>\n",
              "  <tbody>\n",
              "    <tr>\n",
              "      <th>0</th>\n",
              "      <td>0</td>\n",
              "      <td>{'building': '8825', 'coord': [-73.8803827, 40...</td>\n",
              "      <td>Queens</td>\n",
              "      <td>American</td>\n",
              "      <td>[{'date': datetime.datetime(2014, 11, 15, 0, 0...</td>\n",
              "      <td>Brunos On The Boulevard</td>\n",
              "      <td>40356151</td>\n",
              "    </tr>\n",
              "    <tr>\n",
              "      <th>1</th>\n",
              "      <td>1</td>\n",
              "      <td>{'building': '156-71', 'coord': [-73.840437, 4...</td>\n",
              "      <td>Queens</td>\n",
              "      <td>Pizza/Italian</td>\n",
              "      <td>[{'date': datetime.datetime(2014, 10, 29, 0, 0...</td>\n",
              "      <td>New Park Pizzeria &amp; Restaurant</td>\n",
              "      <td>40364744</td>\n",
              "    </tr>\n",
              "    <tr>\n",
              "      <th>2</th>\n",
              "      <td>2</td>\n",
              "      <td>{'building': '6409', 'coord': [-74.00528899999...</td>\n",
              "      <td>Brooklyn</td>\n",
              "      <td>American</td>\n",
              "      <td>[{'date': datetime.datetime(2014, 7, 18, 0, 0)...</td>\n",
              "      <td>Regina Caterers</td>\n",
              "      <td>40356649</td>\n",
              "    </tr>\n",
              "    <tr>\n",
              "      <th>3</th>\n",
              "      <td>3</td>\n",
              "      <td>{'building': '2491', 'coord': [-74.1459332, 40...</td>\n",
              "      <td>Staten Island</td>\n",
              "      <td>Delicatessen</td>\n",
              "      <td>[{'date': datetime.datetime(2015, 1, 9, 0, 0),...</td>\n",
              "      <td>Bagels N Buns</td>\n",
              "      <td>40363427</td>\n",
              "    </tr>\n",
              "    <tr>\n",
              "      <th>4</th>\n",
              "      <td>4</td>\n",
              "      <td>{'building': '56', 'coord': [-74.004758, 40.74...</td>\n",
              "      <td>Manhattan</td>\n",
              "      <td>American</td>\n",
              "      <td>[{'date': datetime.datetime(2014, 6, 10, 0, 0)...</td>\n",
              "      <td>Old Homestead</td>\n",
              "      <td>40364715</td>\n",
              "    </tr>\n",
              "    <tr>\n",
              "      <th>...</th>\n",
              "      <td>...</td>\n",
              "      <td>...</td>\n",
              "      <td>...</td>\n",
              "      <td>...</td>\n",
              "      <td>...</td>\n",
              "      <td>...</td>\n",
              "      <td>...</td>\n",
              "    </tr>\n",
              "    <tr>\n",
              "      <th>25354</th>\n",
              "      <td>25354</td>\n",
              "      <td>{'building': 'ONE', 'coord': [-81.664363600000...</td>\n",
              "      <td>Queens</td>\n",
              "      <td>Other</td>\n",
              "      <td>[]</td>\n",
              "      <td>Camden Food Express</td>\n",
              "      <td>50018316</td>\n",
              "    </tr>\n",
              "    <tr>\n",
              "      <th>25355</th>\n",
              "      <td>25355</td>\n",
              "      <td>{'building': '700', 'coord': [-73.988230600000...</td>\n",
              "      <td>Manhattan</td>\n",
              "      <td>Other</td>\n",
              "      <td>[]</td>\n",
              "      <td>Wooly'S Nyc</td>\n",
              "      <td>50018495</td>\n",
              "    </tr>\n",
              "    <tr>\n",
              "      <th>25356</th>\n",
              "      <td>25356</td>\n",
              "      <td>{'building': '2144', 'coord': [-73.9552561, 40...</td>\n",
              "      <td>Manhattan</td>\n",
              "      <td>Other</td>\n",
              "      <td>[]</td>\n",
              "      <td>Rafi 786</td>\n",
              "      <td>50018553</td>\n",
              "    </tr>\n",
              "    <tr>\n",
              "      <th>25357</th>\n",
              "      <td>25357</td>\n",
              "      <td>{'building': '1448', 'coord': [-73.93032629999...</td>\n",
              "      <td>Brooklyn</td>\n",
              "      <td>Other</td>\n",
              "      <td>[]</td>\n",
              "      <td>NaN</td>\n",
              "      <td>50018721</td>\n",
              "    </tr>\n",
              "    <tr>\n",
              "      <th>25358</th>\n",
              "      <td>25358</td>\n",
              "      <td>{'building': '167', 'coord': [-73.9833565, 40....</td>\n",
              "      <td>Manhattan</td>\n",
              "      <td>Other</td>\n",
              "      <td>[]</td>\n",
              "      <td>Buttercup Bake Shop</td>\n",
              "      <td>50018710</td>\n",
              "    </tr>\n",
              "  </tbody>\n",
              "</table>\n",
              "<p>25359 rows × 7 columns</p>\n",
              "</div>"
            ],
            "text/plain": [
              "           N  ... restaurant_id\n",
              "0          0  ...      40356151\n",
              "1          1  ...      40364744\n",
              "2          2  ...      40356649\n",
              "3          3  ...      40363427\n",
              "4          4  ...      40364715\n",
              "...      ...  ...           ...\n",
              "25354  25354  ...      50018316\n",
              "25355  25355  ...      50018495\n",
              "25356  25356  ...      50018553\n",
              "25357  25357  ...      50018721\n",
              "25358  25358  ...      50018710\n",
              "\n",
              "[25359 rows x 7 columns]"
            ]
          },
          "metadata": {},
          "execution_count": 3
        }
      ]
    },
    {
      "cell_type": "code",
      "metadata": {
        "id": "KuY3FimN7VC_"
      },
      "source": [
        ""
      ],
      "execution_count": null,
      "outputs": []
    },
    {
      "cell_type": "markdown",
      "metadata": {
        "id": "5nX4l5Jj7cVK"
      },
      "source": [
        "Elimini tutte le colonne ad esclusione di ‘borough’, ‘cuisine’ e ‘name’"
      ]
    },
    {
      "cell_type": "code",
      "metadata": {
        "colab": {
          "base_uri": "https://localhost:8080/",
          "height": 424
        },
        "id": "pBE7xuB_77-Z",
        "outputId": "47d3586d-5444-4903-f9c9-cee710fa13c4"
      },
      "source": [
        "df.drop(columns=['borough','cuisine','name']) #è sbagliato,elimina le colenne\n",
        "#df = df.drop(df.columns.difference(['borough', '\tcuisine','name']),1,inplace = True)\n",
        "#df.filter"
      ],
      "execution_count": null,
      "outputs": [
        {
          "output_type": "execute_result",
          "data": {
            "text/html": [
              "<div>\n",
              "<style scoped>\n",
              "    .dataframe tbody tr th:only-of-type {\n",
              "        vertical-align: middle;\n",
              "    }\n",
              "\n",
              "    .dataframe tbody tr th {\n",
              "        vertical-align: top;\n",
              "    }\n",
              "\n",
              "    .dataframe thead th {\n",
              "        text-align: right;\n",
              "    }\n",
              "</style>\n",
              "<table border=\"1\" class=\"dataframe\">\n",
              "  <thead>\n",
              "    <tr style=\"text-align: right;\">\n",
              "      <th></th>\n",
              "      <th>N</th>\n",
              "      <th>address</th>\n",
              "      <th>grades</th>\n",
              "      <th>restaurant_id</th>\n",
              "    </tr>\n",
              "  </thead>\n",
              "  <tbody>\n",
              "    <tr>\n",
              "      <th>0</th>\n",
              "      <td>0</td>\n",
              "      <td>{'building': '8825', 'coord': [-73.8803827, 40...</td>\n",
              "      <td>[{'date': datetime.datetime(2014, 11, 15, 0, 0...</td>\n",
              "      <td>40356151</td>\n",
              "    </tr>\n",
              "    <tr>\n",
              "      <th>1</th>\n",
              "      <td>1</td>\n",
              "      <td>{'building': '156-71', 'coord': [-73.840437, 4...</td>\n",
              "      <td>[{'date': datetime.datetime(2014, 10, 29, 0, 0...</td>\n",
              "      <td>40364744</td>\n",
              "    </tr>\n",
              "    <tr>\n",
              "      <th>2</th>\n",
              "      <td>2</td>\n",
              "      <td>{'building': '6409', 'coord': [-74.00528899999...</td>\n",
              "      <td>[{'date': datetime.datetime(2014, 7, 18, 0, 0)...</td>\n",
              "      <td>40356649</td>\n",
              "    </tr>\n",
              "    <tr>\n",
              "      <th>3</th>\n",
              "      <td>3</td>\n",
              "      <td>{'building': '2491', 'coord': [-74.1459332, 40...</td>\n",
              "      <td>[{'date': datetime.datetime(2015, 1, 9, 0, 0),...</td>\n",
              "      <td>40363427</td>\n",
              "    </tr>\n",
              "    <tr>\n",
              "      <th>4</th>\n",
              "      <td>4</td>\n",
              "      <td>{'building': '56', 'coord': [-74.004758, 40.74...</td>\n",
              "      <td>[{'date': datetime.datetime(2014, 6, 10, 0, 0)...</td>\n",
              "      <td>40364715</td>\n",
              "    </tr>\n",
              "    <tr>\n",
              "      <th>...</th>\n",
              "      <td>...</td>\n",
              "      <td>...</td>\n",
              "      <td>...</td>\n",
              "      <td>...</td>\n",
              "    </tr>\n",
              "    <tr>\n",
              "      <th>25354</th>\n",
              "      <td>25354</td>\n",
              "      <td>{'building': 'ONE', 'coord': [-81.664363600000...</td>\n",
              "      <td>[]</td>\n",
              "      <td>50018316</td>\n",
              "    </tr>\n",
              "    <tr>\n",
              "      <th>25355</th>\n",
              "      <td>25355</td>\n",
              "      <td>{'building': '700', 'coord': [-73.988230600000...</td>\n",
              "      <td>[]</td>\n",
              "      <td>50018495</td>\n",
              "    </tr>\n",
              "    <tr>\n",
              "      <th>25356</th>\n",
              "      <td>25356</td>\n",
              "      <td>{'building': '2144', 'coord': [-73.9552561, 40...</td>\n",
              "      <td>[]</td>\n",
              "      <td>50018553</td>\n",
              "    </tr>\n",
              "    <tr>\n",
              "      <th>25357</th>\n",
              "      <td>25357</td>\n",
              "      <td>{'building': '1448', 'coord': [-73.93032629999...</td>\n",
              "      <td>[]</td>\n",
              "      <td>50018721</td>\n",
              "    </tr>\n",
              "    <tr>\n",
              "      <th>25358</th>\n",
              "      <td>25358</td>\n",
              "      <td>{'building': '167', 'coord': [-73.9833565, 40....</td>\n",
              "      <td>[]</td>\n",
              "      <td>50018710</td>\n",
              "    </tr>\n",
              "  </tbody>\n",
              "</table>\n",
              "<p>25359 rows × 4 columns</p>\n",
              "</div>"
            ],
            "text/plain": [
              "           N  ... restaurant_id\n",
              "0          0  ...      40356151\n",
              "1          1  ...      40364744\n",
              "2          2  ...      40356649\n",
              "3          3  ...      40363427\n",
              "4          4  ...      40364715\n",
              "...      ...  ...           ...\n",
              "25354  25354  ...      50018316\n",
              "25355  25355  ...      50018495\n",
              "25356  25356  ...      50018553\n",
              "25357  25357  ...      50018721\n",
              "25358  25358  ...      50018710\n",
              "\n",
              "[25359 rows x 4 columns]"
            ]
          },
          "metadata": {},
          "execution_count": 4
        }
      ]
    },
    {
      "cell_type": "markdown",
      "metadata": {
        "id": "_2mNAkfw8Qvd"
      },
      "source": [
        "Conti il numero di ristoranti che hanno ‘Missing’ come quartiere"
      ]
    },
    {
      "cell_type": "code",
      "metadata": {
        "colab": {
          "base_uri": "https://localhost:8080/"
        },
        "id": "UvcEhkyt8ocF",
        "outputId": "dc8ce4d5-954b-41a2-bb53-eb143f4d317f"
      },
      "source": [
        "df[df['borough']== 'Missing'].count()['name']"
      ],
      "execution_count": null,
      "outputs": [
        {
          "output_type": "execute_result",
          "data": {
            "text/plain": [
              "51"
            ]
          },
          "metadata": {},
          "execution_count": 12
        }
      ]
    },
    {
      "cell_type": "markdown",
      "metadata": {
        "id": "ZTh2g9vq9WC1"
      },
      "source": [
        "Sostituisca alla parola ‘Missing’ il valore null"
      ]
    },
    {
      "cell_type": "code",
      "metadata": {
        "colab": {
          "base_uri": "https://localhost:8080/",
          "height": 183
        },
        "id": "AtOJ9vxr-hVm",
        "outputId": "cef08c24-3f2a-456c-97c6-b785b6a67ec4"
      },
      "source": [
        "df.replace('Missing',np.nan)\n",
        "df"
      ],
      "execution_count": null,
      "outputs": [
        {
          "output_type": "error",
          "ename": "NameError",
          "evalue": "ignored",
          "traceback": [
            "\u001b[0;31m---------------------------------------------------------------------------\u001b[0m",
            "\u001b[0;31mNameError\u001b[0m                                 Traceback (most recent call last)",
            "\u001b[0;32m<ipython-input-15-86cbb8b467aa>\u001b[0m in \u001b[0;36m<module>\u001b[0;34m()\u001b[0m\n\u001b[0;32m----> 1\u001b[0;31m \u001b[0mdf\u001b[0m\u001b[0;34m.\u001b[0m\u001b[0mreplace\u001b[0m\u001b[0;34m(\u001b[0m\u001b[0;34m'Missing'\u001b[0m\u001b[0;34m,\u001b[0m\u001b[0mnp\u001b[0m\u001b[0;34m.\u001b[0m\u001b[0mnan\u001b[0m\u001b[0;34m)\u001b[0m\u001b[0;34m\u001b[0m\u001b[0;34m\u001b[0m\u001b[0m\n\u001b[0m\u001b[1;32m      2\u001b[0m \u001b[0mdf\u001b[0m\u001b[0;34m\u001b[0m\u001b[0;34m\u001b[0m\u001b[0m\n",
            "\u001b[0;31mNameError\u001b[0m: name 'np' is not defined"
          ]
        }
      ]
    },
    {
      "cell_type": "markdown",
      "metadata": {
        "id": "n60qnlGWhVNj"
      },
      "source": [
        "Elimini dal dataframe tutti i ristoranti di cui non si conosce il quartiere"
      ]
    },
    {
      "cell_type": "code",
      "metadata": {
        "colab": {
          "base_uri": "https://localhost:8080/",
          "height": 424
        },
        "id": "GXr7BdtrhVZk",
        "outputId": "cbc715d3-88e8-46fd-d6ac-80c18acac84f"
      },
      "source": [
        "df.dropna(subset=['borough'], inplace=True) #dropna elimina i valori nulli \n",
        "df\n"
      ],
      "execution_count": null,
      "outputs": [
        {
          "output_type": "execute_result",
          "data": {
            "text/html": [
              "<div>\n",
              "<style scoped>\n",
              "    .dataframe tbody tr th:only-of-type {\n",
              "        vertical-align: middle;\n",
              "    }\n",
              "\n",
              "    .dataframe tbody tr th {\n",
              "        vertical-align: top;\n",
              "    }\n",
              "\n",
              "    .dataframe thead th {\n",
              "        text-align: right;\n",
              "    }\n",
              "</style>\n",
              "<table border=\"1\" class=\"dataframe\">\n",
              "  <thead>\n",
              "    <tr style=\"text-align: right;\">\n",
              "      <th></th>\n",
              "      <th>N</th>\n",
              "      <th>address</th>\n",
              "      <th>borough</th>\n",
              "      <th>cuisine</th>\n",
              "      <th>grades</th>\n",
              "      <th>name</th>\n",
              "      <th>restaurant_id</th>\n",
              "    </tr>\n",
              "  </thead>\n",
              "  <tbody>\n",
              "    <tr>\n",
              "      <th>0</th>\n",
              "      <td>0</td>\n",
              "      <td>{'building': '8825', 'coord': [-73.8803827, 40...</td>\n",
              "      <td>Queens</td>\n",
              "      <td>American</td>\n",
              "      <td>[{'date': datetime.datetime(2014, 11, 15, 0, 0...</td>\n",
              "      <td>Brunos On The Boulevard</td>\n",
              "      <td>40356151</td>\n",
              "    </tr>\n",
              "    <tr>\n",
              "      <th>1</th>\n",
              "      <td>1</td>\n",
              "      <td>{'building': '156-71', 'coord': [-73.840437, 4...</td>\n",
              "      <td>Queens</td>\n",
              "      <td>Pizza/Italian</td>\n",
              "      <td>[{'date': datetime.datetime(2014, 10, 29, 0, 0...</td>\n",
              "      <td>New Park Pizzeria &amp; Restaurant</td>\n",
              "      <td>40364744</td>\n",
              "    </tr>\n",
              "    <tr>\n",
              "      <th>2</th>\n",
              "      <td>2</td>\n",
              "      <td>{'building': '6409', 'coord': [-74.00528899999...</td>\n",
              "      <td>Brooklyn</td>\n",
              "      <td>American</td>\n",
              "      <td>[{'date': datetime.datetime(2014, 7, 18, 0, 0)...</td>\n",
              "      <td>Regina Caterers</td>\n",
              "      <td>40356649</td>\n",
              "    </tr>\n",
              "    <tr>\n",
              "      <th>3</th>\n",
              "      <td>3</td>\n",
              "      <td>{'building': '2491', 'coord': [-74.1459332, 40...</td>\n",
              "      <td>Staten Island</td>\n",
              "      <td>Delicatessen</td>\n",
              "      <td>[{'date': datetime.datetime(2015, 1, 9, 0, 0),...</td>\n",
              "      <td>Bagels N Buns</td>\n",
              "      <td>40363427</td>\n",
              "    </tr>\n",
              "    <tr>\n",
              "      <th>4</th>\n",
              "      <td>4</td>\n",
              "      <td>{'building': '56', 'coord': [-74.004758, 40.74...</td>\n",
              "      <td>Manhattan</td>\n",
              "      <td>American</td>\n",
              "      <td>[{'date': datetime.datetime(2014, 6, 10, 0, 0)...</td>\n",
              "      <td>Old Homestead</td>\n",
              "      <td>40364715</td>\n",
              "    </tr>\n",
              "    <tr>\n",
              "      <th>...</th>\n",
              "      <td>...</td>\n",
              "      <td>...</td>\n",
              "      <td>...</td>\n",
              "      <td>...</td>\n",
              "      <td>...</td>\n",
              "      <td>...</td>\n",
              "      <td>...</td>\n",
              "    </tr>\n",
              "    <tr>\n",
              "      <th>25354</th>\n",
              "      <td>25354</td>\n",
              "      <td>{'building': 'ONE', 'coord': [-81.664363600000...</td>\n",
              "      <td>Queens</td>\n",
              "      <td>Other</td>\n",
              "      <td>[]</td>\n",
              "      <td>Camden Food Express</td>\n",
              "      <td>50018316</td>\n",
              "    </tr>\n",
              "    <tr>\n",
              "      <th>25355</th>\n",
              "      <td>25355</td>\n",
              "      <td>{'building': '700', 'coord': [-73.988230600000...</td>\n",
              "      <td>Manhattan</td>\n",
              "      <td>Other</td>\n",
              "      <td>[]</td>\n",
              "      <td>Wooly'S Nyc</td>\n",
              "      <td>50018495</td>\n",
              "    </tr>\n",
              "    <tr>\n",
              "      <th>25356</th>\n",
              "      <td>25356</td>\n",
              "      <td>{'building': '2144', 'coord': [-73.9552561, 40...</td>\n",
              "      <td>Manhattan</td>\n",
              "      <td>Other</td>\n",
              "      <td>[]</td>\n",
              "      <td>Rafi 786</td>\n",
              "      <td>50018553</td>\n",
              "    </tr>\n",
              "    <tr>\n",
              "      <th>25357</th>\n",
              "      <td>25357</td>\n",
              "      <td>{'building': '1448', 'coord': [-73.93032629999...</td>\n",
              "      <td>Brooklyn</td>\n",
              "      <td>Other</td>\n",
              "      <td>[]</td>\n",
              "      <td>NaN</td>\n",
              "      <td>50018721</td>\n",
              "    </tr>\n",
              "    <tr>\n",
              "      <th>25358</th>\n",
              "      <td>25358</td>\n",
              "      <td>{'building': '167', 'coord': [-73.9833565, 40....</td>\n",
              "      <td>Manhattan</td>\n",
              "      <td>Other</td>\n",
              "      <td>[]</td>\n",
              "      <td>Buttercup Bake Shop</td>\n",
              "      <td>50018710</td>\n",
              "    </tr>\n",
              "  </tbody>\n",
              "</table>\n",
              "<p>25359 rows × 7 columns</p>\n",
              "</div>"
            ],
            "text/plain": [
              "           N  ... restaurant_id\n",
              "0          0  ...      40356151\n",
              "1          1  ...      40364744\n",
              "2          2  ...      40356649\n",
              "3          3  ...      40363427\n",
              "4          4  ...      40364715\n",
              "...      ...  ...           ...\n",
              "25354  25354  ...      50018316\n",
              "25355  25355  ...      50018495\n",
              "25356  25356  ...      50018553\n",
              "25357  25357  ...      50018721\n",
              "25358  25358  ...      50018710\n",
              "\n",
              "[25359 rows x 7 columns]"
            ]
          },
          "metadata": {},
          "execution_count": 17
        }
      ]
    },
    {
      "cell_type": "markdown",
      "metadata": {
        "id": "ioD6KGKAETVF"
      },
      "source": [
        "Calcoli il numero di ristoranti per ogni cucina. Ordinare in ordine decrescente a partire dal tipo di cucina\n",
        "che ha più ristoranti"
      ]
    },
    {
      "cell_type": "code",
      "metadata": {
        "colab": {
          "base_uri": "https://localhost:8080/"
        },
        "id": "_E9wiOJoETdt",
        "outputId": "68aea5c8-9ecf-4fc9-dafc-cc15c6bc688e"
      },
      "source": [
        "df['cuisine'].value_counts()"
      ],
      "execution_count": null,
      "outputs": [
        {
          "output_type": "execute_result",
          "data": {
            "text/plain": [
              "American            6183\n",
              "Chinese             2418\n",
              "Café/Coffee/Tea     1214\n",
              "Pizza               1163\n",
              "Italian             1069\n",
              "                    ... \n",
              "CafÃ©/Coffee/Tea       2\n",
              "Chilean                1\n",
              "Polynesian             1\n",
              "Creole/Cajun           1\n",
              "Californian            1\n",
              "Name: cuisine, Length: 85, dtype: int64"
            ]
          },
          "metadata": {},
          "execution_count": 20
        }
      ]
    },
    {
      "cell_type": "markdown",
      "metadata": {
        "id": "Wjl0LsK7EWBE"
      },
      "source": [
        "Visualizzi il tipo di cucina con più ristoranti"
      ]
    },
    {
      "cell_type": "code",
      "metadata": {
        "colab": {
          "base_uri": "https://localhost:8080/"
        },
        "id": "UMZ9AD0kEWYL",
        "outputId": "2ddbf8c7-e1a7-4630-c2d7-5f5a448185f0"
      },
      "source": [
        "c = df['cuisine'].value_counts()\n",
        "c[c == c.max()]"
      ],
      "execution_count": null,
      "outputs": [
        {
          "output_type": "execute_result",
          "data": {
            "text/plain": [
              "American    6183\n",
              "Name: cuisine, dtype: int64"
            ]
          },
          "metadata": {},
          "execution_count": 19
        }
      ]
    },
    {
      "cell_type": "markdown",
      "metadata": {
        "id": "9HyafMynE1Ta"
      },
      "source": [
        "Visualizzi un grafico a barre con i primi 10 tipi di cucina"
      ]
    },
    {
      "cell_type": "code",
      "metadata": {
        "id": "9nLapKV2E1dZ"
      },
      "source": [
        "fig,ax=plt.subplots()\n",
        "fig.autofmt_xdate(rotation=90)\n",
        "ax.bar(c.index[:10],c[:10])"
      ],
      "execution_count": null,
      "outputs": []
    },
    {
      "cell_type": "markdown",
      "metadata": {
        "id": "bH6uxEMAGDx_"
      },
      "source": [
        ""
      ]
    },
    {
      "cell_type": "code",
      "metadata": {
        "id": "dOsCCDXEGD9k"
      },
      "source": [
        ""
      ],
      "execution_count": null,
      "outputs": []
    },
    {
      "cell_type": "markdown",
      "metadata": {
        "id": "beufhR_UGEHV"
      },
      "source": [
        "Visualizzi i dati precedenti in un grafico a torta"
      ]
    },
    {
      "cell_type": "code",
      "metadata": {
        "colab": {
          "base_uri": "https://localhost:8080/",
          "height": 452
        },
        "id": "0vpD1PuJGEPG",
        "outputId": "f0a246f3-d774-40b9-a6c4-12314d51e003"
      },
      "source": [
        "fig,ax = plt.subplots()\n",
        "ax.pie(q,autopct= '%.2f%%', labels=a.index)\n",
        "plt.show()"
      ],
      "execution_count": null,
      "outputs": [
        {
          "output_type": "error",
          "ename": "NameError",
          "evalue": "ignored",
          "traceback": [
            "\u001b[0;31m---------------------------------------------------------------------------\u001b[0m",
            "\u001b[0;31mNameError\u001b[0m                                 Traceback (most recent call last)",
            "\u001b[0;32m<ipython-input-25-0f7f6dbf7ae1>\u001b[0m in \u001b[0;36m<module>\u001b[0;34m()\u001b[0m\n\u001b[1;32m      1\u001b[0m \u001b[0mfig\u001b[0m\u001b[0;34m,\u001b[0m\u001b[0max\u001b[0m \u001b[0;34m=\u001b[0m \u001b[0mplt\u001b[0m\u001b[0;34m.\u001b[0m\u001b[0msubplots\u001b[0m\u001b[0;34m(\u001b[0m\u001b[0;34m)\u001b[0m\u001b[0;34m\u001b[0m\u001b[0;34m\u001b[0m\u001b[0m\n\u001b[0;32m----> 2\u001b[0;31m \u001b[0max\u001b[0m\u001b[0;34m.\u001b[0m\u001b[0mpie\u001b[0m\u001b[0;34m(\u001b[0m\u001b[0mq\u001b[0m\u001b[0;34m,\u001b[0m\u001b[0mautopct\u001b[0m\u001b[0;34m=\u001b[0m \u001b[0;34m'%.2f%%'\u001b[0m\u001b[0;34m,\u001b[0m \u001b[0mlabels\u001b[0m\u001b[0;34m=\u001b[0m\u001b[0ma\u001b[0m\u001b[0;34m.\u001b[0m\u001b[0mindex\u001b[0m\u001b[0;34m)\u001b[0m\u001b[0;34m\u001b[0m\u001b[0;34m\u001b[0m\u001b[0m\n\u001b[0m\u001b[1;32m      3\u001b[0m \u001b[0mplt\u001b[0m\u001b[0;34m.\u001b[0m\u001b[0mshow\u001b[0m\u001b[0;34m(\u001b[0m\u001b[0;34m)\u001b[0m\u001b[0;34m\u001b[0m\u001b[0;34m\u001b[0m\u001b[0m\n",
            "\u001b[0;31mNameError\u001b[0m: name 'q' is not defined"
          ]
        },
        {
          "output_type": "display_data",
          "data": {
            "image/png": "[encoded data removed]",
            "text/plain": [
              "<Figure size 432x288 with 1 Axes>"
            ]
          },
          "metadata": {
            "needs_background": "light"
          }
        }
      ]
    },
    {
      "cell_type": "markdown",
      "metadata": {
        "id": "aDX0LRMNiE_r"
      },
      "source": [
        "\n",
        "Calcoli il numero di ristoranti per ogni cucina. Ordinare in ordine decrescente a partire dal tipo di cucina\n",
        "che ha più ristoranti\n"
      ]
    },
    {
      "cell_type": "code",
      "metadata": {
        "colab": {
          "base_uri": "https://localhost:8080/",
          "height": 345
        },
        "id": "KtCJVz57iFWb",
        "outputId": "bbdd1c4a-4045-4b57-97ae-0e3e5212e1b2"
      },
      "source": [
        "df[df['cuisine']].count()\n"
      ],
      "execution_count": null,
      "outputs": [
        {
          "output_type": "error",
          "ename": "KeyError",
          "evalue": "ignored",
          "traceback": [
            "\u001b[0;31m---------------------------------------------------------------------------\u001b[0m",
            "\u001b[0;31mKeyError\u001b[0m                                  Traceback (most recent call last)",
            "\u001b[0;32m<ipython-input-10-d560bd933ecd>\u001b[0m in \u001b[0;36m<module>\u001b[0;34m()\u001b[0m\n\u001b[0;32m----> 1\u001b[0;31m \u001b[0mdf\u001b[0m\u001b[0;34m[\u001b[0m\u001b[0mdf\u001b[0m\u001b[0;34m[\u001b[0m\u001b[0;34m'cuisine'\u001b[0m\u001b[0;34m]\u001b[0m\u001b[0;34m]\u001b[0m\u001b[0;34m.\u001b[0m\u001b[0mcount\u001b[0m\u001b[0;34m(\u001b[0m\u001b[0;34m)\u001b[0m\u001b[0;34m\u001b[0m\u001b[0;34m\u001b[0m\u001b[0m\n\u001b[0m\u001b[1;32m      2\u001b[0m \u001b[0mdf\u001b[0m\u001b[0;34m\u001b[0m\u001b[0;34m\u001b[0m\u001b[0m\n",
            "\u001b[0;32m/usr/local/lib/python3.7/dist-packages/pandas/core/frame.py\u001b[0m in \u001b[0;36m__getitem__\u001b[0;34m(self, key)\u001b[0m\n\u001b[1;32m   2910\u001b[0m             \u001b[0;32mif\u001b[0m \u001b[0mis_iterator\u001b[0m\u001b[0;34m(\u001b[0m\u001b[0mkey\u001b[0m\u001b[0;34m)\u001b[0m\u001b[0;34m:\u001b[0m\u001b[0;34m\u001b[0m\u001b[0;34m\u001b[0m\u001b[0m\n\u001b[1;32m   2911\u001b[0m                 \u001b[0mkey\u001b[0m \u001b[0;34m=\u001b[0m \u001b[0mlist\u001b[0m\u001b[0;34m(\u001b[0m\u001b[0mkey\u001b[0m\u001b[0;34m)\u001b[0m\u001b[0;34m\u001b[0m\u001b[0;34m\u001b[0m\u001b[0m\n\u001b[0;32m-> 2912\u001b[0;31m             \u001b[0mindexer\u001b[0m \u001b[0;34m=\u001b[0m \u001b[0mself\u001b[0m\u001b[0;34m.\u001b[0m\u001b[0mloc\u001b[0m\u001b[0;34m.\u001b[0m\u001b[0m_get_listlike_indexer\u001b[0m\u001b[0;34m(\u001b[0m\u001b[0mkey\u001b[0m\u001b[0;34m,\u001b[0m \u001b[0maxis\u001b[0m\u001b[0;34m=\u001b[0m\u001b[0;36m1\u001b[0m\u001b[0;34m,\u001b[0m \u001b[0mraise_missing\u001b[0m\u001b[0;34m=\u001b[0m\u001b[0;32mTrue\u001b[0m\u001b[0;34m)\u001b[0m\u001b[0;34m[\u001b[0m\u001b[0;36m1\u001b[0m\u001b[0;34m]\u001b[0m\u001b[0;34m\u001b[0m\u001b[0;34m\u001b[0m\u001b[0m\n\u001b[0m\u001b[1;32m   2913\u001b[0m \u001b[0;34m\u001b[0m\u001b[0m\n\u001b[1;32m   2914\u001b[0m         \u001b[0;31m# take() does not accept boolean indexers\u001b[0m\u001b[0;34m\u001b[0m\u001b[0;34m\u001b[0m\u001b[0;34m\u001b[0m\u001b[0m\n",
            "\u001b[0;32m/usr/local/lib/python3.7/dist-packages/pandas/core/indexing.py\u001b[0m in \u001b[0;36m_get_listlike_indexer\u001b[0;34m(self, key, axis, raise_missing)\u001b[0m\n\u001b[1;32m   1252\u001b[0m             \u001b[0mkeyarr\u001b[0m\u001b[0;34m,\u001b[0m \u001b[0mindexer\u001b[0m\u001b[0;34m,\u001b[0m \u001b[0mnew_indexer\u001b[0m \u001b[0;34m=\u001b[0m \u001b[0max\u001b[0m\u001b[0;34m.\u001b[0m\u001b[0m_reindex_non_unique\u001b[0m\u001b[0;34m(\u001b[0m\u001b[0mkeyarr\u001b[0m\u001b[0;34m)\u001b[0m\u001b[0;34m\u001b[0m\u001b[0;34m\u001b[0m\u001b[0m\n\u001b[1;32m   1253\u001b[0m \u001b[0;34m\u001b[0m\u001b[0m\n\u001b[0;32m-> 1254\u001b[0;31m         \u001b[0mself\u001b[0m\u001b[0;34m.\u001b[0m\u001b[0m_validate_read_indexer\u001b[0m\u001b[0;34m(\u001b[0m\u001b[0mkeyarr\u001b[0m\u001b[0;34m,\u001b[0m \u001b[0mindexer\u001b[0m\u001b[0;34m,\u001b[0m \u001b[0maxis\u001b[0m\u001b[0;34m,\u001b[0m \u001b[0mraise_missing\u001b[0m\u001b[0;34m=\u001b[0m\u001b[0mraise_missing\u001b[0m\u001b[0;34m)\u001b[0m\u001b[0;34m\u001b[0m\u001b[0;34m\u001b[0m\u001b[0m\n\u001b[0m\u001b[1;32m   1255\u001b[0m         \u001b[0;32mreturn\u001b[0m \u001b[0mkeyarr\u001b[0m\u001b[0;34m,\u001b[0m \u001b[0mindexer\u001b[0m\u001b[0;34m\u001b[0m\u001b[0;34m\u001b[0m\u001b[0m\n\u001b[1;32m   1256\u001b[0m \u001b[0;34m\u001b[0m\u001b[0m\n",
            "\u001b[0;32m/usr/local/lib/python3.7/dist-packages/pandas/core/indexing.py\u001b[0m in \u001b[0;36m_validate_read_indexer\u001b[0;34m(self, key, indexer, axis, raise_missing)\u001b[0m\n\u001b[1;32m   1296\u001b[0m             \u001b[0;32mif\u001b[0m \u001b[0mmissing\u001b[0m \u001b[0;34m==\u001b[0m \u001b[0mlen\u001b[0m\u001b[0;34m(\u001b[0m\u001b[0mindexer\u001b[0m\u001b[0;34m)\u001b[0m\u001b[0;34m:\u001b[0m\u001b[0;34m\u001b[0m\u001b[0;34m\u001b[0m\u001b[0m\n\u001b[1;32m   1297\u001b[0m                 \u001b[0maxis_name\u001b[0m \u001b[0;34m=\u001b[0m \u001b[0mself\u001b[0m\u001b[0;34m.\u001b[0m\u001b[0mobj\u001b[0m\u001b[0;34m.\u001b[0m\u001b[0m_get_axis_name\u001b[0m\u001b[0;34m(\u001b[0m\u001b[0maxis\u001b[0m\u001b[0;34m)\u001b[0m\u001b[0;34m\u001b[0m\u001b[0;34m\u001b[0m\u001b[0m\n\u001b[0;32m-> 1298\u001b[0;31m                 \u001b[0;32mraise\u001b[0m \u001b[0mKeyError\u001b[0m\u001b[0;34m(\u001b[0m\u001b[0;34mf\"None of [{key}] are in the [{axis_name}]\"\u001b[0m\u001b[0;34m)\u001b[0m\u001b[0;34m\u001b[0m\u001b[0;34m\u001b[0m\u001b[0m\n\u001b[0m\u001b[1;32m   1299\u001b[0m \u001b[0;34m\u001b[0m\u001b[0m\n\u001b[1;32m   1300\u001b[0m             \u001b[0;31m# We (temporarily) allow for some missing keys with .loc, except in\u001b[0m\u001b[0;34m\u001b[0m\u001b[0;34m\u001b[0m\u001b[0;34m\u001b[0m\u001b[0m\n",
            "\u001b[0;31mKeyError\u001b[0m: \"None of [Index(['American', 'Pizza/Italian', 'American', 'Delicatessen', 'American',\\n       'American', 'American', 'Spanish', 'Pizza/Italian', 'Jewish/Kosher',\\n       ...\\n       'Other', 'Other', 'Other', 'Other', 'Japanese', 'Other', 'Other',\\n       'Other', 'Other', 'Other'],\\n      dtype='object', length=25359)] are in the [columns]\""
          ]
        }
      ]
    },
    {
      "cell_type": "markdown",
      "metadata": {
        "id": "EOoL4Glc8Exf"
      },
      "source": [
        "crei un nuovo dataframe sostituendo la parola &#39;non American&#39; a tutti i tipi di cucina che non sono\n",
        "americani"
      ]
    },
    {
      "cell_type": "code",
      "metadata": {
        "colab": {
          "base_uri": "https://localhost:8080/",
          "height": 130
        },
        "id": "_4keg_fk8FLe",
        "outputId": "956d9691-7823-41d5-fe8c-eae5a2ca34a7"
      },
      "source": [
        "df.rename(columns={['cuisine']'non American' : != 'American'},inplace=True)\n",
        "df"
      ],
      "execution_count": null,
      "outputs": [
        {
          "output_type": "error",
          "ename": "SyntaxError",
          "evalue": "ignored",
          "traceback": [
            "\u001b[0;36m  File \u001b[0;32m\"<ipython-input-11-6ae8e8be9922>\"\u001b[0;36m, line \u001b[0;32m1\u001b[0m\n\u001b[0;31m    df.rename(columns={['cuisine']'non American' : != 'American'},inplace=True)\u001b[0m\n\u001b[0m                                               ^\u001b[0m\n\u001b[0;31mSyntaxError\u001b[0m\u001b[0;31m:\u001b[0m invalid syntax\n"
          ]
        }
      ]
    },
    {
      "cell_type": "markdown",
      "metadata": {
        "id": "Sk9nl9dSK4IG"
      },
      "source": [
        "16. crei un nuovo dataframe che abbia una colonna che contiene i ristoranti di cucina americana e una\n",
        "colonna che contiene il numero di ristoranti che propongono cucine non americane. Il risultato deve\n",
        "essere il seguente:"
      ]
    },
    {
      "cell_type": "code",
      "metadata": {
        "id": "osiN6lygK4i2"
      },
      "source": [
        "df1.unstack()"
      ],
      "execution_count": null,
      "outputs": []
    }
  ]
}